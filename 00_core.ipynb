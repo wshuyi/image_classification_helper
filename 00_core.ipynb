{
  "cells": [
    {
      "cell_type": "code",
      "source": [
        "# default_exp core"
      ],
      "outputs": [],
      "execution_count": null,
      "metadata": {}
    },
    {
      "cell_type": "markdown",
      "source": [
        "# module name here\n",
        "\n",
        "> API details."
      ],
      "metadata": {}
    },
    {
      "cell_type": "code",
      "source": [
        "#hide\n",
        "from nbdev.showdoc import *"
      ],
      "outputs": [],
      "execution_count": null,
      "metadata": {}
    },
    {
      "cell_type": "code",
      "source": [
        "#export\n",
        "from torchvision.io.image import read_image\n",
        "from torchvision.transforms.functional import normalize, resize, to_pil_image\n",
        "from torchcam.methods import SmoothGradCAMpp\n",
        "import matplotlib.pyplot as plt\n",
        "from torchcam.utils import overlay_mask\n",
        "\n",
        "from sklearn.metrics import confusion_matrix, classification_report\n",
        "import shutil\n",
        "import os\n",
        "from pathlib import Path\n",
        "from fastai.vision.all import *"
      ],
      "outputs": [],
      "execution_count": null,
      "metadata": {}
    },
    {
      "cell_type": "code",
      "source": [
        "#export\n",
        "def get_labels_and_preds(predictions):\n",
        "    df = pd.DataFrame(predictions[0])\n",
        "    preds = (df[0] < df[1]).astype(int)\n",
        "    labels = predictions[1]\n",
        "    return labels, preds\n",
        "\n",
        "def visualize_cam_on_img(img_name, mymodel):\n",
        "    model = mymodel\n",
        "    cam_extractor = SmoothGradCAMpp(model)\n",
        "    img = read_image(str(img_name))    \n",
        "    input_tensor = normalize(resize(img, (224, 224)) / 255., [0.485, 0.456, 0.406], [0.229, 0.224, 0.225]).cuda()\n",
        "\n",
        "    # Preprocess your data and feed it to the model\n",
        "    out = model(input_tensor.unsqueeze(0))\n",
        "    # Retrieve the CAM by passing the class index and the model output\n",
        "    activation_map = cam_extractor(out.squeeze(0).argmax().item(), out)\n",
        "\n",
        "\n",
        "    # Resize the CAM and overlay it\n",
        "    result = overlay_mask(to_pil_image(img), to_pil_image(activation_map[0], mode='F'), alpha=0.5)\n",
        "    # Display it\n",
        "    plt.imshow(result); plt.axis('off'); plt.tight_layout(); plt.show()\n",
        "\n",
        "\n",
        "def rename_in_order(folder):\n",
        "    files = list(folder.glob(\"*\"))\n",
        "    temp_folder = folder / \"temp\"\n",
        "    temp_folder.mkdir()\n",
        "    target_files = []\n",
        "    for i in range(len(files)):\n",
        "        source = files[i]\n",
        "        target = temp_folder / f\"{i+1:03}.jpg\"\n",
        "        target_files.append(target)\n",
        "        shutil.move(source, target)\n",
        "    for file in target_files:\n",
        "        shutil.copy2(file, folder)\n",
        "    shutil.rmtree(temp_folder)\n",
        "\n",
        "def init_images_dir(images):\n",
        "    if images.exists():\n",
        "        shutil.rmtree(images)\n",
        "\n",
        "    images.mkdir(parents=True)\n",
        "\n",
        "    train_folder = images / \"train\"\n",
        "    valid_folder = images / \"valid\"\n",
        "    test_folder = images / \"test\"\n",
        "\n",
        "    train_folder.mkdir()\n",
        "    valid_folder.mkdir()\n",
        "    test_folder.mkdir()\n",
        "\n",
        "def split_images_into_train_valid_test(mycls, images, images_original, train_ratio=0.7, test_ratio=0.1):\n",
        "\n",
        "    files = list((images_original / mycls).glob(\"*.jpg\"))\n",
        "\n",
        "    train_length = round(len(files) * train_ratio)\n",
        "    test_length = round(len(files) * test_ratio)\n",
        "\n",
        "    train = files[:train_length]\n",
        "    valid = files[train_length:len(files) - test_length]\n",
        "    test = files[len(files) - test_length:]\n",
        "\n",
        "    train_folder = images / \"train\"\n",
        "    valid_folder = images / \"valid\"\n",
        "    test_folder = images / \"test\"\n",
        "\n",
        "    (train_folder / mycls).mkdir()\n",
        "    (valid_folder / mycls).mkdir()\n",
        "    (test_folder / mycls).mkdir()\n",
        "\n",
        "    for file in train:\n",
        "        shutil.copy(file, train_folder / mycls)\n",
        "\n",
        "    for file in valid:\n",
        "        shutil.copy(file, valid_folder / mycls)\n",
        "\n",
        "    for file in test:\n",
        "        shutil.copy(file, test_folder / mycls)\n",
        "        \n",
        "    rename_in_order(train_folder / mycls)\n",
        "    rename_in_order(valid_folder / mycls)\n",
        "    rename_in_order(test_folder / mycls)"
      ],
      "outputs": [],
      "execution_count": null,
      "metadata": {}
    },
    {
      "cell_type": "code",
      "source": [
        "from nbdev.export import notebook2script; notebook2script()"
      ],
      "outputs": [
        {
          "output_type": "stream",
          "name": "stdout",
          "text": [
            "Converted 00_core.ipynb.\n",
            "Converted index.ipynb.\n"
          ]
        }
      ],
      "execution_count": null,
      "metadata": {}
    },
    {
      "cell_type": "code",
      "source": [],
      "outputs": [],
      "execution_count": null,
      "metadata": {}
    },
    {
      "cell_type": "code",
      "source": [],
      "outputs": [],
      "execution_count": null,
      "metadata": {}
    }
  ],
  "metadata": {
    "kernelspec": {
      "display_name": "Python 3",
      "language": "python",
      "name": "python3"
    },
    "nteract": {
      "version": "0.28.0"
    }
  },
  "nbformat": 4,
  "nbformat_minor": 4
}
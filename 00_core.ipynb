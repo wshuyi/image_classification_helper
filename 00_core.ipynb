{
 "cells": [
  {
   "cell_type": "code",
   "execution_count": null,
   "metadata": {},
   "outputs": [],
   "source": [
    "# default_exp core"
   ]
  },
  {
   "cell_type": "markdown",
   "metadata": {},
   "source": [
    "# module name here\n",
    "\n",
    "> API details."
   ]
  },
  {
   "cell_type": "code",
   "execution_count": null,
   "metadata": {},
   "outputs": [],
   "source": [
    "#hide\n",
    "from nbdev.showdoc import *"
   ]
  },
  {
   "cell_type": "code",
   "execution_count": null,
   "metadata": {},
   "outputs": [],
   "source": [
    "#export\n",
    "from torchvision.io.image import read_image\n",
    "from torchvision.transforms.functional import normalize, resize, to_pil_image\n",
    "from torchcam.cams import SmoothGradCAMpp\n",
    "from torchcam.utils import overlay_mask\n",
    "\n",
    "import matplotlib.pyplot as plt\n",
    "from sklearn.metrics import confusion_matrix, classification_report\n",
    "import shutil\n",
    "import os\n",
    "from pathlib import Path\n",
    "from fastai.vision.all import *"
   ]
  },
  {
   "cell_type": "code",
   "execution_count": null,
   "metadata": {},
   "outputs": [],
   "source": [
    "#export\n",
    "def get_labels_and_preds(predictions):\n",
    "  df = pd.DataFrame(predictions[0])\n",
    "  preds = (df[0] < df[1]).astype(int)\n",
    "  labels = predictions[1]\n",
    "  return labels, preds\n",
    "\n",
    "def visualize_cam_on_img(img_name, model):\n",
    "  cam_extractor = SmoothGradCAMpp(model)\n",
    "  img = read_image(str(img_name))\n",
    "  input_tensor = normalize(resize(img, (224, 224)) / 255., [0.485, 0.456, 0.406], [0.229, 0.224, 0.225]).cuda()\n",
    "  out = model(input_tensor.unsqueeze(0))\n",
    "  activation_map = cam_extractor(out.squeeze(0).argmax().item(), out)\n",
    "  result = overlay_mask(to_pil_image(img), to_pil_image(activation_map, mode='F'), alpha=0.5)\n",
    "  plt.imshow(result); plt.axis('off'); plt.tight_layout(); plt.show()\n",
    "\n",
    "def rename_in_order(folder):\n",
    "    files = list(folder.glob(\"*\"))\n",
    "    temp_folder = folder / \"temp\"\n",
    "    temp_folder.mkdir()\n",
    "    target_files = []\n",
    "    for i in range(len(files)):\n",
    "        source = files[i]\n",
    "        target = temp_folder / f\"{i+1:03}.jpg\"\n",
    "        target_files.append(target)\n",
    "        shutil.move(source, target)\n",
    "    for file in target_files:\n",
    "        shutil.copy2(file, folder)\n",
    "    shutil.rmtree(temp_folder)\n",
    "\n",
    "def init_images_dir(images):\n",
    "  if images.exists():\n",
    "    shutil.rmtree(images)\n",
    "\n",
    "  images.mkdir()\n",
    "\n",
    "  train_folder = images / \"train\"\n",
    "  valid_folder = images / \"valid\"\n",
    "  test_folder = images / \"test\"\n",
    "\n",
    "  train_folder.mkdir()\n",
    "  valid_folder.mkdir()\n",
    "  test_folder.mkdir()\n",
    "\n",
    "def split_images_into_train_valid_test(mycls, images, images_original, train_ratio=0.7, test_ratio=0.1):\n",
    "\n",
    "    files = list((images_original / mycls).glob(\"*.jpg\"))\n",
    "\n",
    "    train_length = round(len(files) * train_ratio)\n",
    "    test_length = round(len(files) * test_ratio)\n",
    "\n",
    "    train = files[:train_length]\n",
    "    valid = files[train_length:len(files) - test_length]\n",
    "    test = files[len(files) - test_length:]\n",
    "\n",
    "    train_folder = images / \"train\"\n",
    "    valid_folder = images / \"valid\"\n",
    "    test_folder = images / \"test\"\n",
    "\n",
    "    (train_folder / mycls).mkdir()\n",
    "    (valid_folder / mycls).mkdir()\n",
    "    (test_folder / mycls).mkdir()\n",
    "\n",
    "    for file in train:\n",
    "        shutil.copy(file, train_folder / mycls)\n",
    "\n",
    "    for file in valid:\n",
    "        shutil.copy(file, valid_folder / mycls)\n",
    "\n",
    "    for file in test:\n",
    "        shutil.copy(file, test_folder / mycls)\n",
    "        \n",
    "    rename_in_order(train_folder / mycls)\n",
    "    rename_in_order(valid_folder / mycls)\n",
    "    rename_in_order(test_folder / mycls)"
   ]
  },
  {
   "cell_type": "code",
   "execution_count": null,
   "metadata": {},
   "outputs": [
    {
     "name": "stdout",
     "output_type": "stream",
     "text": [
      "Converted 00_core.ipynb.\n",
      "Converted index.ipynb.\n"
     ]
    }
   ],
   "source": [
    "from nbdev.export import notebook2script; notebook2script()"
   ]
  },
  {
   "cell_type": "code",
   "execution_count": null,
   "metadata": {},
   "outputs": [],
   "source": []
  },
  {
   "cell_type": "code",
   "execution_count": null,
   "metadata": {},
   "outputs": [],
   "source": []
  }
 ],
 "metadata": {
  "kernelspec": {
   "display_name": "Python 3",
   "language": "python",
   "name": "python3"
  }
 },
 "nbformat": 4,
 "nbformat_minor": 4
}
